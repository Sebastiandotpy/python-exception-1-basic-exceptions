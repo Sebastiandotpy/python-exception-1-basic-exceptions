{
 "cells": [
  {
   "attachments": {},
   "cell_type": "markdown",
   "metadata": {},
   "source": [
    "1. Name three things that exception processing is good for.\n",
    "\n",
    "Exception processing is good for:\n",
    "\n",
    "Handling unexpected errors that may occur during program execution.\n",
    "Improving code robustness by gracefully handling exceptional conditions.\n",
    "Providing error messages or logging information for debugging purposes.\n",
    "\n",
    "2. What happens to an exception if you don’t do anything special to handle it?\n",
    "\n",
    "  - If an exception is not handled, it propagates up the call stack until it reaches the default exception handler. The program terminates, and an error message is displayed, indicating the unhandled exception.\n",
    "\n",
    "3. How can your script recover (program continuation) from an exception?\n",
    "\n",
    "  - To recover from an exception and continue script execution, you can use exception handling techniques such as try-except blocks. By catching and handling specific exceptions within the except block, you can control the flow of execution and allow the script to continue running.\n",
    "\n",
    "4. What is the try statement for?\n",
    "\n",
    "  - The try statement is used to enclose a block of code that may raise exceptions. It allows you to handle exceptions and control the program's flow when errors occur. The code inside the try block is executed, and if an exception is raised, it can be caught and processed in the except block.\n",
    "\n",
    "5. What are the two common variations of the try statement?\n",
    "\n",
    "  - The two common variations of the try statement are:\n",
    "\n",
    "try-except: It allows you to catch specific exceptions and handle them appropriately within the except block.\n",
    "try-finally: It ensures that a specific block of code (the finally block) is always executed, whether an exception occurs or not, providing a cleanup mechanism.\n",
    "\n",
    "6. What is the raise statement for?\n",
    "\n",
    "  - The raise statement is used to explicitly raise an exception. It allows you to raise built-in or custom exceptions at specific points in your code, indicating exceptional conditions or errors that need to be handled by the caller or caught by an except block."
   ]
  },
  {
   "attachments": {},
   "cell_type": "markdown",
   "metadata": {},
   "source": [
    "*For the first question (ZeroDivisionError):*"
   ]
  },
  {
   "cell_type": "code",
   "execution_count": 3,
   "metadata": {},
   "outputs": [
    {
     "name": "stdout",
     "output_type": "stream",
     "text": [
      "You can't divide by 0\n"
     ]
    }
   ],
   "source": [
    "a = 5\n",
    "b = 0\n",
    "try:\n",
    "    result = a / b\n",
    "except ZeroDivisionError:\n",
    "    result = \"You can't divide by 0\"\n",
    "\n",
    "print(result)\n"
   ]
  },
  {
   "attachments": {},
   "cell_type": "markdown",
   "metadata": {},
   "source": [
    "*For the second question (BaseExceptionError):*"
   ]
  },
  {
   "cell_type": "code",
   "execution_count": 2,
   "metadata": {},
   "outputs": [
    {
     "name": "stdout",
     "output_type": "stream",
     "text": [
      "You can't add int to string\n"
     ]
    }
   ],
   "source": [
    "a = \"Hello World!\"\n",
    "try:\n",
    "    a + 10\n",
    "except Exception:\n",
    "    msg = \"You can't add int to string\"\n",
    "\n",
    "print(msg)\n"
   ]
  },
  {
   "attachments": {},
   "cell_type": "markdown",
   "metadata": {},
   "source": [
    "*For the third question (IndexError):*"
   ]
  },
  {
   "cell_type": "code",
   "execution_count": 1,
   "metadata": {},
   "outputs": [
    {
     "name": "stdout",
     "output_type": "stream",
     "text": [
      "You're out of list range\n"
     ]
    }
   ],
   "source": [
    "lst = [5, 10, 20]\n",
    "try:\n",
    "    print(lst[5])\n",
    "except IndexError:\n",
    "    msg = \"You're out of list range\"\n",
    "\n",
    "print(msg)\n"
   ]
  }
 ],
 "metadata": {
  "kernelspec": {
   "display_name": "venv",
   "language": "python",
   "name": "python3"
  },
  "language_info": {
   "codemirror_mode": {
    "name": "ipython",
    "version": 3
   },
   "file_extension": ".py",
   "mimetype": "text/x-python",
   "name": "python",
   "nbconvert_exporter": "python",
   "pygments_lexer": "ipython3",
   "version": "3.11.4"
  },
  "orig_nbformat": 4
 },
 "nbformat": 4,
 "nbformat_minor": 2
}
